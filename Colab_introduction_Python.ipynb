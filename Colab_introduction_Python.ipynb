{
  "nbformat": 4,
  "nbformat_minor": 0,
  "metadata": {
    "colab": {
      "provenance": [],
      "authorship_tag": "ABX9TyOEnoghgshFLAoyky5843e4",
      "include_colab_link": true
    },
    "kernelspec": {
      "name": "python3",
      "display_name": "Python 3"
    },
    "language_info": {
      "name": "python"
    }
  },
  "cells": [
    {
      "cell_type": "markdown",
      "metadata": {
        "id": "view-in-github",
        "colab_type": "text"
      },
      "source": [
        "<a href=\"https://colab.research.google.com/github/uio-mana/BioData-Advanced-SA/blob/main/Colab_introduction_Python.ipynb\" target=\"_parent\"><img src=\"https://colab.research.google.com/assets/colab-badge.svg\" alt=\"Open In Colab\"/></a>"
      ]
    },
    {
      "cell_type": "code",
      "execution_count": null,
      "metadata": {
        "id": "_g_oBxAUnUXC"
      },
      "outputs": [],
      "source": [
        "# prompt: download and expand dwc archive into occurrence table from https://api.gbif.org/v1/occurrence/download/request/0017682-241107131044228.zip\n",
        "\n",
        "import requests\n",
        "import zipfile\n",
        "import io\n",
        "import pandas as pd\n",
        "import os\n",
        "\n",
        "def download_and_extract_dwca(download_link):\n",
        "  \"\"\"Downloads and extracts a Darwin Core Archive (DwCA) from a given URL.\n",
        "\n",
        "  Args:\n",
        "    download_link: The URL of the DwCA zip file.\n",
        "\n",
        "  Returns:\n",
        "    A pandas DataFrame containing the occurrence data, or None if an error occurs.\n",
        "  \"\"\"\n",
        "  try:\n",
        "    response = requests.get(download_link, stream=True)\n",
        "    response.raise_for_status()  # Raise an exception for non-200 status codes\n",
        "\n",
        "    with zipfile.ZipFile(io.BytesIO(response.content)) as z:\n",
        "      for filename in z.namelist():\n",
        "        if filename.endswith(\".csv\"):\n",
        "          occurrence_file = filename\n",
        "          break\n",
        "      else:\n",
        "        # No suitable occurrence file found in the archive\n",
        "        print(\"Error: No occurrence.csv file found in the DwCA archive\")\n",
        "        return None\n",
        "\n",
        "      with z.open(occurrence_file) as f:\n",
        "          df = pd.read_csv(f, sep='\\t')\n",
        "          return df\n",
        "\n",
        "  except requests.exceptions.RequestException as e:\n",
        "    print(f\"Error downloading the file: {e}\")\n",
        "    return None\n",
        "  except zipfile.BadZipFile:\n",
        "    print(\"Error: Invalid zip file\")\n",
        "    return None\n",
        "  except KeyError:\n",
        "      print(\"Error: No occurrence data found in the archive\")\n",
        "      return None\n",
        "  except Exception as e:\n",
        "    print(f\"An unexpected error occurred: {e}\")\n",
        "    return None\n",
        "\n",
        "\n",
        "# Example usage\n",
        "download_link = \"https://api.gbif.org/v1/occurrence/download/request/0017682-241107131044228.zip\"\n",
        "occurrence_df = download_and_extract_dwca(download_link)\n",
        "\n",
        "\n",
        "# if occurrence_df is not None:\n",
        "#   print(occurrence_df.head()) # print first 5 rows of the DataFrame\n",
        "#   # You can now work with the DataFrame (e.g., save it to a file)\n",
        "#   #occurrence_df.to_csv(\"occurrence_data.csv\", index=False)"
      ]
    }
  ]
}